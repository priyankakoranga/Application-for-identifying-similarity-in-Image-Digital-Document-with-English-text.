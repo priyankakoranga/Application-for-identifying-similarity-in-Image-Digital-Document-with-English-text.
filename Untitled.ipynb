{
 "cells": [
  {
   "cell_type": "code",
   "execution_count": 17,
   "metadata": {},
   "outputs": [],
   "source": [
    "import tkinter as tk\n",
    "from tkinter import *\n",
    "from tkinter import filedialog\n",
    "from PIL import ImageTk, Image\n",
    "import cv2\n",
    "import pytesseract\n",
    "import import_ipynb\n",
    "from text_extraction import textConversion\n",
    "from text_extraction import image_to_text"
   ]
  },
  {
   "cell_type": "code",
   "execution_count": 18,
   "metadata": {},
   "outputs": [],
   "source": [
    "def browse1():\n",
    "    filename = filedialog.askopenfilename(filetypes = ((\"All Files\",\"*.*\"),(\"File\",\"*.jpg\")))\n",
    "    path.config(text = filename)\n",
    "    a = filename\n",
    "    global file \n",
    "    file = a"
   ]
  },
  {
   "cell_type": "code",
   "execution_count": 19,
   "metadata": {},
   "outputs": [],
   "source": [
    "def browse2():\n",
    "    filename2 = filedialog.askopenfilename(filetypes = ((\"All Files\",\"*.*\"),(\"File\",\"*.jpg\")))\n",
    "    path.config(text = filename2)\n",
    "    b = filename2\n",
    "    global file2 \n",
    "    file2 = b"
   ]
  },
  {
   "cell_type": "code",
   "execution_count": 20,
   "metadata": {},
   "outputs": [],
   "source": [
    "def submit1():\n",
    "    textConversion(file,file2);\n"
   ]
  },
  {
   "cell_type": "code",
   "execution_count": 21,
   "metadata": {},
   "outputs": [],
   "source": [
    "def test():\n",
    "    print(\"testing\")"
   ]
  },
  {
   "cell_type": "code",
   "execution_count": 22,
   "metadata": {},
   "outputs": [],
   "source": [
    "def filedreq():\n",
    "    if n_value.get()==\"\":\n",
    "        print(\"n_value field is empty!!\")\n",
    "        user = \"n_value field is empty!!\"\n",
    "        Label(win,text=user,fg=\"red\",bg=\"gray\",font=(\"Ariel 10\")).place(x=20,y=300)\n",
    "    else:\n",
    "        test()"
   ]
  },
  {
   "cell_type": "code",
   "execution_count": 23,
   "metadata": {},
   "outputs": [
    {
     "data": {
      "text/plain": [
       "''"
      ]
     },
     "execution_count": 23,
     "metadata": {},
     "output_type": "execute_result"
    }
   ],
   "source": [
    "win =  Tk()\n",
    "win.geometry(\"420x520\")\n",
    "win.configure(background=\"#fff\")\n",
    "win.title(\"PLAGARISM CHECKER\")"
   ]
  },
  {
   "cell_type": "code",
   "execution_count": 24,
   "metadata": {},
   "outputs": [],
   "source": [
    "title = Label(win,text=\"PLAGARISM CHECK\",bg=\"black\",width=\"300\",height=\"2\",fg=\"White\",font = (\"Ariel 20 bold\")).pack()"
   ]
  },
  {
   "cell_type": "code",
   "execution_count": 25,
   "metadata": {},
   "outputs": [],
   "source": [
    "doc1 = Label(win, text=\"Image 1: \",bg=\"#fff\",font = (\"Verdana 12 bold\")).place(x=12,y=100)\n",
    "gap = Label(win,text=\"\",bg=\"#fff\").pack()\n",
    "doc2 = Label(win, text=\"Image 2: \",bg=\"#fff\",font = (\"Verdana 12 bold\")).place(x=12,y=140)\n",
    "gap = Label(win,text=\"\",bg=\"#fff\").pack()\n",
    "n = Label(win, text=\"Value of n: \",bg=\"#fff\",font = (\"Verdana 12 bold\")).place(x=12,y=180)\n",
    "gap = Label(win,text=\"\",bg=\"#fff\").pack()"
   ]
  },
  {
   "cell_type": "code",
   "execution_count": 26,
   "metadata": {},
   "outputs": [],
   "source": [
    "global n_value\n",
    "n_value=StringVar()\n",
    "n_value=Entry(win,textvariable=n_value)\n",
    "n_value.place(x=140,y=180)"
   ]
  },
  {
   "cell_type": "code",
   "execution_count": 27,
   "metadata": {},
   "outputs": [],
   "source": [
    "path = Label(win,bg=\"#fff\",font = (\"Ariel 8\"))\n",
    "path.place(x=140,y=220)\n",
    "gap = Label(win,text=\"\",bg=\"#fff\").pack()"
   ]
  },
  {
   "cell_type": "code",
   "execution_count": 28,
   "metadata": {},
   "outputs": [],
   "source": [
    "upload = Button(win, text=\"BROWSE\", width=\"12\",height=\"1\",activebackground=\"gray\", bg=\"black\",fg=\"white\",font = (\"Calibri 12 \"),command = browse1).place(x=140, y=100)"
   ]
  },
  {
   "cell_type": "code",
   "execution_count": 29,
   "metadata": {},
   "outputs": [],
   "source": [
    "upload1 = Button(win, text=\"BROWSE\", width=\"12\",height=\"1\",activebackground=\"gray\", bg=\"black\",fg=\"white\",font = (\"Calibri 12 \"),command = browse2).place(x=140, y=140)"
   ]
  },
  {
   "cell_type": "code",
   "execution_count": 14,
   "metadata": {},
   "outputs": [],
   "source": [
    "submit = Button(win, text=\"SUBMIT\", width=\"12\",height=\"1\",activebackground=\"gray\",command=submit1,bg=\"black\",fg=\"white\",font = (\"Calibri 12 \")).place(x=250, y=300)\n"
   ]
  },
  {
   "cell_type": "code",
   "execution_count": 15,
   "metadata": {},
   "outputs": [],
   "source": [
    "win.mainloop()"
   ]
  },
  {
   "cell_type": "code",
   "execution_count": null,
   "metadata": {},
   "outputs": [],
   "source": []
  },
  {
   "cell_type": "code",
   "execution_count": null,
   "metadata": {},
   "outputs": [],
   "source": []
  },
  {
   "cell_type": "code",
   "execution_count": null,
   "metadata": {},
   "outputs": [],
   "source": []
  },
  {
   "cell_type": "code",
   "execution_count": null,
   "metadata": {},
   "outputs": [],
   "source": []
  },
  {
   "cell_type": "code",
   "execution_count": null,
   "metadata": {},
   "outputs": [],
   "source": []
  }
 ],
 "metadata": {
  "kernelspec": {
   "display_name": "Python 3",
   "language": "python",
   "name": "python3"
  },
  "language_info": {
   "codemirror_mode": {
    "name": "ipython",
    "version": 3
   },
   "file_extension": ".py",
   "mimetype": "text/x-python",
   "name": "python",
   "nbconvert_exporter": "python",
   "pygments_lexer": "ipython3",
   "version": "3.7.4"
  }
 },
 "nbformat": 4,
 "nbformat_minor": 4
}
