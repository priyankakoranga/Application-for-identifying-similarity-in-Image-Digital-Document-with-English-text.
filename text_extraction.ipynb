{
 "cells": [
  {
   "cell_type": "code",
   "execution_count": 2,
   "metadata": {},
   "outputs": [
    {
     "name": "stdout",
     "output_type": "stream",
     "text": [
      "importing Jupyter notebook from plagiarism_checker.ipynb\n"
     ]
    }
   ],
   "source": [
    "# importing modules\n",
    "import pytesseract\n",
    "from pytesseract import Output\n",
    "import joblib\n",
    "from PIL import Image\n",
    "import cv2\n",
    "import csv\n",
    "import import_ipynb\n",
    "from pytesseract import Output\n",
    "from plagiarism_checker import plagiarism_check"
   ]
  },
  {
   "cell_type": "code",
   "execution_count": 2,
   "metadata": {},
   "outputs": [],
   "source": [
    "#Function to extract text from image\n",
    "def image_to_text(x): \n",
    "    \n",
    "    #reading image using opencv\n",
    "    image = cv2.imread(x)\n",
    "    \n",
    "    #converting image into gray scale image\n",
    "    gray_image = cv2.cvtColor(image, cv2.COLOR_BGR2GRAY)\n",
    "    \n",
    "    # converting it to binary image by Thresholding\n",
    "    # this step is require if you have colored image because if you skip this part\n",
    "    # then tesseract won't able to detect text correctly and this will give incorrect result\n",
    "    threshold_img = cv2.threshold(gray_image, 0, 255, cv2.THRESH_BINARY | cv2.THRESH_OTSU)[1]\n",
    "    \n",
    "    pytesseract.pytesseract.tesseract_cmd = r'C:\\Program Files\\Tesseract-OCR\\tesseract.exe'\n",
    "    \n",
    "    #configuring parameters for tesseract\n",
    "    custom_config = r'--oem 3 --psm 6'\n",
    "    details = pytesseract.image_to_data(threshold_img,output_type=Output.DICT,config=custom_config, lang='eng')\n",
    "    total_boxes = len(details['text'])\n",
    "    for sequence_number in range(total_boxes):\n",
    "        if int(details['conf'][sequence_number]) >30:\n",
    "            (x, y, w, h) = (details['left'][sequence_number], details['top'][sequence_number], details['width'][sequence_number],  details['height'][sequence_number])\n",
    "            threshold_img = cv2.rectangle(threshold_img, (x, y), (x + w, y + h), (0, 255, 0), 2)\n",
    "    parse_text = []\n",
    "    word_list = []\n",
    "    last_word = ''\n",
    "    for word in details['text']:\n",
    "        if word!='':\n",
    "            word_list.append(word)\n",
    "            last_word = word\n",
    "        if (last_word!='' and word == '') or (word==details['text'][-1]):\n",
    "            parse_text.append(word_list)\n",
    "            word_list = []\n",
    "    return parse_text\n",
    "    "
   ]
  },
  {
   "cell_type": "code",
   "execution_count": 3,
   "metadata": {},
   "outputs": [],
   "source": [
    "#function to convert result into file\n",
    "def textConversion(file, file2,n):\n",
    "    f1 = image_to_text(file)\n",
    "    with open('result_text1.txt',  'w', newline=\"\",encoding='utf-8') as file1:\n",
    "        csv.writer(file1, delimiter=\" \").writerows(f1)\n",
    "    f2 = image_to_text(file2)\n",
    "    with open('result_text2.txt',  'w', newline=\"\",encoding='utf-8') as file3:\n",
    "        csv.writer(file3, delimiter=\" \").writerows(f2)\n",
    "    result = plagiarism_check(n)\n",
    "    return result"
   ]
  },
  {
   "cell_type": "code",
   "execution_count": null,
   "metadata": {},
   "outputs": [],
   "source": []
  },
  {
   "cell_type": "code",
   "execution_count": null,
   "metadata": {},
   "outputs": [],
   "source": []
  },
  {
   "cell_type": "code",
   "execution_count": null,
   "metadata": {},
   "outputs": [],
   "source": []
  },
  {
   "cell_type": "code",
   "execution_count": null,
   "metadata": {},
   "outputs": [],
   "source": []
  }
 ],
 "metadata": {
  "kernelspec": {
   "display_name": "Python 3",
   "language": "python",
   "name": "python3"
  },
  "language_info": {
   "codemirror_mode": {
    "name": "ipython",
    "version": 3
   },
   "file_extension": ".py",
   "mimetype": "text/x-python",
   "name": "python",
   "nbconvert_exporter": "python",
   "pygments_lexer": "ipython3",
   "version": "3.7.4"
  }
 },
 "nbformat": 4,
 "nbformat_minor": 2
}
