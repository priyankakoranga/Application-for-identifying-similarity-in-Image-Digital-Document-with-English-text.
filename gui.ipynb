{
 "cells": [
  {
   "cell_type": "code",
   "execution_count": 55,
   "metadata": {},
   "outputs": [],
   "source": [
    "#importing modules\n",
    "import tkinter as tk\n",
    "from tkinter import *\n",
    "from tkinter import filedialog\n",
    "from PIL import ImageTk, Image\n",
    "import cv2\n",
    "import pytesseract\n",
    "import import_ipynb\n",
    "from text_extraction import textConversion\n",
    "from text_extraction import image_to_text\n",
    "from plagiarism_checker import plagiarism_check"
   ]
  },
  {
   "cell_type": "code",
   "execution_count": 56,
   "metadata": {},
   "outputs": [],
   "source": [
    "#function for browsing 1st file\n",
    "def browse1():\n",
    "    filename = filedialog.askopenfilename(filetypes = ((\"All Files\",\"*.*\"),(\"File\",\"*.jpg\")))\n",
    "    path.config(text = filename)\n",
    "    a = filename\n",
    "    global file \n",
    "    file = a"
   ]
  },
  {
   "cell_type": "code",
   "execution_count": 57,
   "metadata": {},
   "outputs": [],
   "source": [
    "#function for browsing 2nd file\n",
    "def browse2():\n",
    "    filename2 = filedialog.askopenfilename(filetypes = ((\"All Files\",\"*.*\"),(\"File\",\"*.jpg\")))\n",
    "    path.config(text = filename2)\n",
    "    b = filename2\n",
    "    global file2 \n",
    "    file2 = b"
   ]
  },
  {
   "cell_type": "markdown",
   "metadata": {},
   "source": [
    "def filedreq():\n",
    "    if n_value.get()==\"\":\n",
    "        print(\"n_value field is empty!!\")\n",
    "        user = \"n_value field is empty!!\"\n",
    "        Label(win,text=user,fg=\"red\",bg=\"gray\",font=(\"Ariel 10\")).place(x=20,y=300)\n",
    "    else:\n",
    "        test()"
   ]
  },
  {
   "cell_type": "code",
   "execution_count": 58,
   "metadata": {},
   "outputs": [
    {
     "data": {
      "text/plain": [
       "''"
      ]
     },
     "execution_count": 58,
     "metadata": {},
     "output_type": "execute_result"
    }
   ],
   "source": [
    "# create a tkinter window\n",
    "win =  Tk()\n",
    "\n",
    "# Open window having dimension 420x520 and setting a title\n",
    "win.geometry(\"1000x1000\")\n",
    "win.configure(background=\"#fff\")\n",
    "win.title(\"PLAGIARISM CHECKER\")"
   ]
  },
  {
   "cell_type": "code",
   "execution_count": 59,
   "metadata": {},
   "outputs": [],
   "source": [
    "title = Label(win,text=\"PLAGARISM CHECK\",bg=\"black\",width=\"300\",height=\"2\",fg=\"White\",font = (\"Ariel 20 bold\")).pack()"
   ]
  },
  {
   "cell_type": "code",
   "execution_count": 60,
   "metadata": {},
   "outputs": [],
   "source": [
    "#adding labels for uploading image1, image2 and n value\n",
    "doc1 = Label(win, text=\"Image 1: \",bg=\"#fff\",font = (\"Verdana 12 bold\")).place(x=12,y=100)\n",
    "gap = Label(win,text=\"\",bg=\"#fff\").pack()\n",
    "doc2 = Label(win, text=\"Image 2: \",bg=\"#fff\",font = (\"Verdana 12 bold\")).place(x=12,y=140)\n",
    "gap = Label(win,text=\"\",bg=\"#fff\").pack()\n",
    "n_val = Label(win, text=\"Value of n: \",bg=\"#fff\",font = (\"Verdana 12 bold\")).place(x=12,y=180)\n",
    "gap = Label(win,text=\"\",bg=\"#fff\").pack()"
   ]
  },
  {
   "cell_type": "code",
   "execution_count": 61,
   "metadata": {},
   "outputs": [],
   "source": [
    "n_value = Entry(win)\n",
    "n_value.place(x=140,y=180)"
   ]
  },
  {
   "cell_type": "code",
   "execution_count": 62,
   "metadata": {},
   "outputs": [],
   "source": [
    "#function that will be called on clicking submit button\n",
    "#takes n value and sends images to text extraction function and prints the plagiarism percentage of the two images\n",
    "def submit1():\n",
    "    global result\n",
    "    n1 = int(n_value.get())\n",
    "    result = textConversion(file,file2,n1);\n",
    "    result = round(result,2)\n",
    "    Label(win,text=\"SIMILARITY OF THESE TWO IMAGES IS:\",bg=\"black\",height=\"1\",fg=\"White\",font = (\"Ariel 20\")).place(x=100,y=300)\n",
    "    Label(win,text=result,bg=\"gray\",height=\"2\",fg=\"blue\",font = (\"Ariel 20 bold\")).place(x=700,y=300)\n",
    "    Label(win,text=\"%\",bg=\"gray\",height=\"2\",fg=\"blue\",font = (\"Ariel 20 bold\")).place(x=800,y=300)"
   ]
  },
  {
   "cell_type": "code",
   "execution_count": 63,
   "metadata": {},
   "outputs": [],
   "source": [
    "path = Label(win,bg=\"#fff\",font = (\"Ariel 8\"))\n",
    "path.place(x=140,y=220)\n",
    "gap = Label(win,text=\"\",bg=\"#fff\").pack()"
   ]
  },
  {
   "cell_type": "code",
   "execution_count": 64,
   "metadata": {},
   "outputs": [],
   "source": [
    "#adding button widget for uploading the images and taking n value from the user\n",
    "upload = Button(win,relief=RAISED ,text=\"Upload a file\", width=\"12\",height=\"1\",activebackground=\"gray\", bg=\"black\",fg=\"white\",font = (\"Calibri 12 \"),command = browse1)\n",
    "#img = PhotoImage(file=\"button_icon.png\")\n",
    "#upload.config(image=img)\n",
    "upload.place(x=140, y=100)"
   ]
  },
  {
   "cell_type": "code",
   "execution_count": 65,
   "metadata": {},
   "outputs": [],
   "source": [
    "upload1 = Button(win,relief=RAISED,text=\"Upload a file\", width=\"12\",height=\"1\",activebackground=\"gray\", bg=\"black\",fg=\"white\",font = (\"Calibri 12 \"),command = browse2).place(x=140, y=140)"
   ]
  },
  {
   "cell_type": "code",
   "execution_count": 66,
   "metadata": {},
   "outputs": [],
   "source": [
    "submit = Button(win,relief=RAISED,text=\"Click for plagarism check\", width=\"50\",height=\"1\",activebackground=\"gray\",command=submit1,bg=\"black\",fg=\"white\",font = (\"Calibri 12 \")).place(x=140, y=250)"
   ]
  },
  {
   "cell_type": "code",
   "execution_count": 67,
   "metadata": {},
   "outputs": [
    {
     "name": "stdout",
     "output_type": "stream",
     "text": [
      "0.0 [0.0, 0.0]\n",
      "0.0\n"
     ]
    }
   ],
   "source": [
    "# calling mainloop method which is used \n",
    "# when your application is ready to run \n",
    "# and it tells the code to keep displaying  \n",
    "win.mainloop()"
   ]
  },
  {
   "cell_type": "code",
   "execution_count": null,
   "metadata": {},
   "outputs": [],
   "source": []
  },
  {
   "cell_type": "code",
   "execution_count": null,
   "metadata": {},
   "outputs": [],
   "source": []
  },
  {
   "cell_type": "code",
   "execution_count": null,
   "metadata": {},
   "outputs": [],
   "source": []
  },
  {
   "cell_type": "code",
   "execution_count": null,
   "metadata": {},
   "outputs": [],
   "source": []
  },
  {
   "cell_type": "code",
   "execution_count": null,
   "metadata": {},
   "outputs": [],
   "source": []
  },
  {
   "cell_type": "code",
   "execution_count": null,
   "metadata": {},
   "outputs": [],
   "source": []
  }
 ],
 "metadata": {
  "kernelspec": {
   "display_name": "Python 3",
   "language": "python",
   "name": "python3"
  },
  "language_info": {
   "codemirror_mode": {
    "name": "ipython",
    "version": 3
   },
   "file_extension": ".py",
   "mimetype": "text/x-python",
   "name": "python",
   "nbconvert_exporter": "python",
   "pygments_lexer": "ipython3",
   "version": "3.7.4"
  }
 },
 "nbformat": 4,
 "nbformat_minor": 4
}
